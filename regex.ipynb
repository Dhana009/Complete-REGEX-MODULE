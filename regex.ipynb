{
 "cells": [
  {
   "cell_type": "code",
   "execution_count": 2,
   "id": "f26121fe",
   "metadata": {},
   "outputs": [],
   "source": [
    "import regex as re"
   ]
  },
  {
   "cell_type": "markdown",
   "id": "6118e708",
   "metadata": {},
   "source": [
    "# character class , backslash, alteration, quantifiers, greedy and non greedy, boundary macthers, splitting, substitution"
   ]
  },
  {
   "cell_type": "markdown",
   "id": "50cd4533",
   "metadata": {},
   "source": [
    "## match, search, findall, finditer"
   ]
  },
  {
   "cell_type": "code",
   "execution_count": 4,
   "id": "4cd3ace1",
   "metadata": {},
   "outputs": [],
   "source": [
    "x = re.compile('apple')"
   ]
  },
  {
   "cell_type": "code",
   "execution_count": 5,
   "id": "cfa7ae1c",
   "metadata": {},
   "outputs": [
    {
     "data": {
      "text/plain": [
       "<regex.Match object; span=(0, 5), match='apple'>"
      ]
     },
     "execution_count": 5,
     "metadata": {},
     "output_type": "execute_result"
    }
   ],
   "source": [
    "x.match('apple is mine')"
   ]
  },
  {
   "cell_type": "code",
   "execution_count": 8,
   "id": "e7930698",
   "metadata": {},
   "outputs": [
    {
     "data": {
      "text/plain": [
       "<regex.Match object; span=(14, 19), match='apple'>"
      ]
     },
     "execution_count": 8,
     "metadata": {},
     "output_type": "execute_result"
    }
   ],
   "source": [
    "x.search('apple is mine apple',pos=5)"
   ]
  },
  {
   "cell_type": "code",
   "execution_count": 7,
   "id": "aee44530",
   "metadata": {},
   "outputs": [
    {
     "data": {
      "text/plain": [
       "['apple', 'apple']"
      ]
     },
     "execution_count": 7,
     "metadata": {},
     "output_type": "execute_result"
    }
   ],
   "source": [
    "x.findall('apple is mine apple')"
   ]
  },
  {
   "cell_type": "code",
   "execution_count": 9,
   "id": "97d6f186",
   "metadata": {},
   "outputs": [
    {
     "data": {
      "text/plain": [
       "<_regex.Scanner at 0x1936e898af0>"
      ]
     },
     "execution_count": 9,
     "metadata": {},
     "output_type": "execute_result"
    }
   ],
   "source": [
    "x.finditer('apple is mine')"
   ]
  },
  {
   "cell_type": "code",
   "execution_count": null,
   "id": "0f2d389d",
   "metadata": {},
   "outputs": [],
   "source": []
  },
  {
   "cell_type": "raw",
   "id": "fe83a273",
   "metadata": {},
   "source": [
    "Predefined Character Classes\n",
    "There exist some predefined character classes which can be used as a shortcut for some frequently used classes.\n",
    "\n",
    "Element\tDescription\n",
    ".\tThis element matches any character except newline\n",
    "\\d\tThis matches any decimal digit; this is equivalent to the class [0-9]\n",
    "\\D\tThis matches any non-digit character; this is equivalent to the class [^0-9]\n",
    "\\s\tThis matches any whitespace character; this is equivalent to the class [ \\t\\n\\r\\f\\v]\n",
    "\\S\tThis matches any non-whitespace character; this is equivalent to the class [^ \\t\\n\\r\\f\\v]\n",
    "\\w\tThis matches any alphanumeric character; this is equivalent to the class [a-zA-Z0-9_]\n",
    "\\W\tThis matches any non-alphanumeric character; this is equivalent to the class [^a-zA-Z0-9_]"
   ]
  },
  {
   "cell_type": "code",
   "execution_count": 16,
   "id": "0c0323ff",
   "metadata": {},
   "outputs": [],
   "source": [
    "txt = \"\"\"\n",
    "Thw first season of Indian Premiere League (IPL) was played in 2008. \n",
    "The second season was played in 2009 in South Africa. \n",
    "Last season was played in 2018 and won by Chennai Super Kings (CSK).\n",
    "CSK won the title in 2010 and 2011 as well.\n",
    "Mumbai Indians (MI) has also won the title 3 times in 2013, 2015 and 2017.\n",
    "\"\"\""
   ]
  },
  {
   "cell_type": "code",
   "execution_count": 17,
   "id": "5cde09c2",
   "metadata": {},
   "outputs": [
    {
     "data": {
      "text/plain": [
       "['2008', '2009', '2018', '2010', '2011', '2013', '2015', '2017']"
      ]
     },
     "execution_count": 17,
     "metadata": {},
     "output_type": "execute_result"
    }
   ],
   "source": [
    "re.findall('\\d\\d\\d\\d',txt)"
   ]
  },
  {
   "cell_type": "code",
   "execution_count": 18,
   "id": "14b4296a",
   "metadata": {},
   "outputs": [
    {
     "data": {
      "text/plain": [
       "['Thw', 'The']"
      ]
     },
     "execution_count": 18,
     "metadata": {},
     "output_type": "execute_result"
    }
   ],
   "source": [
    "re.findall('Th[e|w]',txt)"
   ]
  },
  {
   "cell_type": "code",
   "execution_count": null,
   "id": "56ae8248",
   "metadata": {},
   "outputs": [],
   "source": []
  },
  {
   "cell_type": "markdown",
   "id": "dc369322",
   "metadata": {},
   "source": [
    "# backslash and alteration\n"
   ]
  },
  {
   "cell_type": "code",
   "execution_count": 19,
   "id": "f6a63328",
   "metadata": {},
   "outputs": [],
   "source": [
    "txt1 = \"\"\"\n",
    "C:\\Windows\n",
    "C:\\Python\n",
    "C:\\Windows\\System32\n",
    "\"\"\""
   ]
  },
  {
   "cell_type": "code",
   "execution_count": 21,
   "id": "095b72e4",
   "metadata": {},
   "outputs": [
    {
     "data": {
      "text/plain": [
       "'C:\\\\\\\\Windows\\\\\\\\System32'"
      ]
     },
     "execution_count": 21,
     "metadata": {},
     "output_type": "execute_result"
    }
   ],
   "source": [
    "re.escape('C:\\Windows\\System32')"
   ]
  },
  {
   "cell_type": "code",
   "execution_count": 23,
   "id": "d426073f",
   "metadata": {},
   "outputs": [
    {
     "data": {
      "text/plain": [
       "['C:\\\\Windows\\\\System32']"
      ]
     },
     "execution_count": 23,
     "metadata": {},
     "output_type": "execute_result"
    }
   ],
   "source": [
    "re.findall('C:\\\\\\\\Windows\\\\\\\\System32',txt1)"
   ]
  },
  {
   "cell_type": "code",
   "execution_count": 25,
   "id": "4c30693a",
   "metadata": {},
   "outputs": [
    {
     "data": {
      "text/plain": [
       "['and', 'the', 'and', 'the', 'and']"
      ]
     },
     "execution_count": 25,
     "metadata": {},
     "output_type": "execute_result"
    }
   ],
   "source": [
    "re.findall('and|or|the',txt)"
   ]
  },
  {
   "cell_type": "code",
   "execution_count": null,
   "id": "1ba18777",
   "metadata": {},
   "outputs": [],
   "source": []
  },
  {
   "cell_type": "markdown",
   "id": "c4c612d5",
   "metadata": {},
   "source": [
    "# Quantifiers"
   ]
  },
  {
   "cell_type": "raw",
   "id": "ae917303",
   "metadata": {},
   "source": [
    "\n",
    "Quantifiers are the mechanisms to define how a character, metacharacter, or character set can be repeated.\n",
    "\n",
    "Here is the list of 4 basic quantifers:\n",
    "\n",
    "Symbol\tName\tQuantification of previous character\n",
    "?\tQuestion Mark\tOptional (0 or 1 repetitions)\n",
    "*\tAsterisk\tZero or more times\n",
    "+\tPlus Sign\tOne or more times\n",
    "{n,m}\tCurly Braces\tBetween n and m times"
   ]
  },
  {
   "cell_type": "raw",
   "id": "ea6ee232",
   "metadata": {},
   "source": [
    "We can use the curly brackets syntax here with these modifications:\n",
    "\n",
    "Syntax\tDescription\n",
    "{n}\tThe previous character is repeated exactly n times.\n",
    "{n,}\tThe previous character is repeated at least n times.\n",
    "{,n}\tThe previous character is repeated at most n times.\n",
    "{n,m}\tThe previous character is repeated between n and m times (both inclusive)."
   ]
  },
  {
   "cell_type": "code",
   "execution_count": 26,
   "id": "9eddd998",
   "metadata": {},
   "outputs": [],
   "source": [
    "txt2 = \"\"\"\n",
    "I have 2 dogs. One dog is 1 year old and other one is 2 years old. Both dogs are very cute! \n",
    "\"\"\""
   ]
  },
  {
   "cell_type": "code",
   "execution_count": 27,
   "id": "cc510a4e",
   "metadata": {},
   "outputs": [
    {
     "data": {
      "text/plain": [
       "['dogs', 'dog', 'dogs']"
      ]
     },
     "execution_count": 27,
     "metadata": {},
     "output_type": "execute_result"
    }
   ],
   "source": [
    "re.findall('dogs?',txt2)"
   ]
  },
  {
   "cell_type": "markdown",
   "id": "1ba81165",
   "metadata": {},
   "source": [
    "Example 2\n",
    "Find all filenames starting with file and ending with .txt in the given text."
   ]
  },
  {
   "cell_type": "code",
   "execution_count": 28,
   "id": "f1b74ab4",
   "metadata": {},
   "outputs": [],
   "source": [
    "txt = \"\"\"\n",
    "file1.txt\n",
    "file_one.txt\n",
    "file.txt\n",
    "fil.txt\n",
    "file.xml\n",
    "file-1.txt\n",
    "\"\"\""
   ]
  },
  {
   "cell_type": "code",
   "execution_count": 33,
   "id": "1a60c446",
   "metadata": {},
   "outputs": [
    {
     "data": {
      "text/plain": [
       "['file1.txt', 'file.txt', 'file.xml']"
      ]
     },
     "execution_count": 33,
     "metadata": {},
     "output_type": "execute_result"
    }
   ],
   "source": [
    "re.findall('file\\d?\\.\\w*',txt)"
   ]
  },
  {
   "cell_type": "code",
   "execution_count": 34,
   "id": "d9c3733e",
   "metadata": {},
   "outputs": [],
   "source": []
  },
  {
   "cell_type": "markdown",
   "id": "d581194c",
   "metadata": {},
   "source": [
    "Example 4\n",
    "Find years in the given text."
   ]
  },
  {
   "cell_type": "code",
   "execution_count": 35,
   "id": "1531badf",
   "metadata": {},
   "outputs": [],
   "source": [
    "txt = \"\"\"\n",
    "The first season of Indian Premiere League (IPL) was played in 2008. \n",
    "The second season was played in 2009 in South Africa. \n",
    "Last season was played in 2018 and won by Chennai Super Kings (CSK).\n",
    "CSK won the title in 2010 and 2011 as well.\n",
    "Mumbai Indians (MI) has also won the title 3 times in 2013, 2015 and 2017.\n",
    "\"\"\""
   ]
  },
  {
   "cell_type": "code",
   "execution_count": 38,
   "id": "f14157cb",
   "metadata": {},
   "outputs": [
    {
     "data": {
      "text/plain": [
       "['2008', '2009', '2018', '2010', '2011', '2013', '2015', '2017']"
      ]
     },
     "execution_count": 38,
     "metadata": {},
     "output_type": "execute_result"
    }
   ],
   "source": [
    "re.findall('\\d{4}',txt)"
   ]
  },
  {
   "cell_type": "markdown",
   "id": "2bdad795",
   "metadata": {},
   "source": [
    "Example 6\n",
    "Write a pattern to validate telephone numbers.\n",
    "\n",
    "Telephone numbers can be of the form: 555-555-5555, 555 555 5555, 5555555555"
   ]
  },
  {
   "cell_type": "code",
   "execution_count": 39,
   "id": "66bedfd4",
   "metadata": {},
   "outputs": [],
   "source": [
    "txt = '555-555-5555, 555 555 5555, 5555555555'"
   ]
  },
  {
   "cell_type": "code",
   "execution_count": 46,
   "id": "404f08f0",
   "metadata": {},
   "outputs": [
    {
     "data": {
      "text/plain": [
       "['555-555-555', '555 555 555', '5555555555']"
      ]
     },
     "execution_count": 46,
     "metadata": {},
     "output_type": "execute_result"
    }
   ],
   "source": [
    "re.findall('\\d{3}[-?|\\s?|\\d]?\\d{3}[-?|\\s?|\\d]?\\d{3}',txt)"
   ]
  },
  {
   "cell_type": "code",
   "execution_count": null,
   "id": "0948c85e",
   "metadata": {},
   "outputs": [],
   "source": []
  },
  {
   "cell_type": "markdown",
   "id": "768d47d0",
   "metadata": {},
   "source": [
    "# Non-Greedy behaviour"
   ]
  },
  {
   "cell_type": "raw",
   "id": "9c230ec0",
   "metadata": {},
   "source": [
    "\n",
    "The non-greedy (or reluctant) behaviour can be requested by adding an extra question mark to the quantifier.\n",
    "\n",
    "For example, ??, *? or +?."
   ]
  },
  {
   "cell_type": "code",
   "execution_count": 49,
   "id": "8441c3aa",
   "metadata": {},
   "outputs": [
    {
     "data": {
      "text/plain": [
       "['55',\n",
       " '5-5',\n",
       " '55',\n",
       " '55',\n",
       " '55',\n",
       " '55',\n",
       " '5 5',\n",
       " '55',\n",
       " '55',\n",
       " '55',\n",
       " '55',\n",
       " '55',\n",
       " '55',\n",
       " '55',\n",
       " '55']"
      ]
     },
     "execution_count": 49,
     "metadata": {},
     "output_type": "execute_result"
    }
   ],
   "source": [
    "re.findall('\\d.*?\\d',txt)"
   ]
  },
  {
   "cell_type": "markdown",
   "id": "ea4dcc98",
   "metadata": {},
   "source": [
    "# Greedy behaviour"
   ]
  },
  {
   "cell_type": "code",
   "execution_count": 50,
   "id": "6ae69bbc",
   "metadata": {},
   "outputs": [
    {
     "data": {
      "text/plain": [
       "['555-555-5555, 555 555 5555, 5555555555']"
      ]
     },
     "execution_count": 50,
     "metadata": {},
     "output_type": "execute_result"
    }
   ],
   "source": [
    "re.findall('\\d.*\\d',txt)"
   ]
  },
  {
   "cell_type": "code",
   "execution_count": null,
   "id": "28ec1486",
   "metadata": {},
   "outputs": [],
   "source": []
  },
  {
   "cell_type": "markdown",
   "id": "810b8733",
   "metadata": {},
   "source": [
    "# boundary matchers"
   ]
  },
  {
   "cell_type": "raw",
   "id": "ce66fef2",
   "metadata": {},
   "source": [
    "Here is a table which shows the list of all boundary matchers available in Python:\n",
    "\n",
    "Matcher\tDescription\n",
    "^\tMatches at the beginning of a line\n",
    "$\tMatches at the end of a line\n",
    "\\b\tMatches a word boundary\n",
    "\\B\tMatches the opposite of \\b. Anything that is not a word boundary\n",
    "\\A\tMatches the beginning of the input\n",
    "\\Z\tMatches the end of the input"
   ]
  },
  {
   "cell_type": "code",
   "execution_count": 58,
   "id": "f6936c6e",
   "metadata": {},
   "outputs": [],
   "source": [
    "txt = \"\"\"\n",
    "Name:\n",
    "Age: 0\n",
    "Roll No.: 15\n",
    "Grade: S\n",
    "\n",
    "Name: Ravi\n",
    "Age: -1\n",
    "Roll No.: 123 Name: ABC\n",
    "Grade: K\n",
    "\n",
    "Name: Ram\n",
    "Age: N/A\n",
    "Roll No.: 1\n",
    "Grade: G\n",
    "\"\"\""
   ]
  },
  {
   "cell_type": "markdown",
   "id": "b5317199",
   "metadata": {},
   "source": [
    "Example 1\n",
    "Consider a scenario where we want to find all the lines in the given text which start with the pattern Name:."
   ]
  },
  {
   "cell_type": "code",
   "execution_count": 61,
   "id": "51e2fb13",
   "metadata": {},
   "outputs": [
    {
     "data": {
      "text/plain": [
       "['Name:', 'Name: Ravi', 'Name: Ram']"
      ]
     },
     "execution_count": 61,
     "metadata": {},
     "output_type": "execute_result"
    }
   ],
   "source": [
    "re.findall('^N.*$',txt,flags=re.M)"
   ]
  },
  {
   "cell_type": "markdown",
   "id": "b5d45296",
   "metadata": {},
   "source": [
    "Example 2\n",
    "Find all the sentences which do not end with a full stop (.) in the given text."
   ]
  },
  {
   "cell_type": "code",
   "execution_count": 63,
   "id": "7f90941c",
   "metadata": {},
   "outputs": [],
   "source": [
    "txt = \"\"\"\n",
    "Lorem Ipsum is simply dummy text of the printing and typesetting industry.\n",
    "Lorem Ipsum has been the industry's standard dummy text ever since the 1500s!\n",
    "It has survived not only five centuries, but also the leap into electronic typesetting, remaining essentially unchanged.\n",
    "It was popularised in the 1960s with the release of Letraset sheets containing Lorem Ipsum passages\n",
    "More recently with desktop publishing software like Aldus PageMaker including versions of Lorem Ipsum.\"\"\""
   ]
  },
  {
   "cell_type": "code",
   "execution_count": 76,
   "id": "b04fd2f8",
   "metadata": {},
   "outputs": [
    {
     "data": {
      "text/plain": [
       "[\"Lorem Ipsum has been the industry's standard dummy text ever since the 1500s!\",\n",
       " 'It was popularised in the 1960s with the release of Letraset sheets containing Lorem Ipsum passages']"
      ]
     },
     "execution_count": 76,
     "metadata": {},
     "output_type": "execute_result"
    }
   ],
   "source": [
    "re.findall('^.*[^\\.]$',txt,flags=re.M)"
   ]
  },
  {
   "cell_type": "code",
   "execution_count": null,
   "id": "fb81732a",
   "metadata": {},
   "outputs": [],
   "source": []
  },
  {
   "cell_type": "code",
   "execution_count": null,
   "id": "93d3aa22",
   "metadata": {},
   "outputs": [],
   "source": []
  },
  {
   "cell_type": "markdown",
   "id": "6e263041",
   "metadata": {},
   "source": [
    "# Split using RegEx"
   ]
  },
  {
   "cell_type": "code",
   "execution_count": 77,
   "id": "153c1885",
   "metadata": {},
   "outputs": [
    {
     "data": {
      "text/plain": [
       "\"\\nLorem Ipsum is simply dummy text of the printing and typesetting industry.\\nLorem Ipsum has been the industry's standard dummy text ever since the 1500s!\\nIt has survived not only five centuries, but also the leap into electronic typesetting, remaining essentially unchanged.\\nIt was popularised in the 1960s with the release of Letraset sheets containing Lorem Ipsum passages\\nMore recently with desktop publishing software like Aldus PageMaker including versions of Lorem Ipsum.\""
      ]
     },
     "execution_count": 77,
     "metadata": {},
     "output_type": "execute_result"
    }
   ],
   "source": [
    "txt"
   ]
  },
  {
   "cell_type": "code",
   "execution_count": 79,
   "id": "6640c0fc",
   "metadata": {},
   "outputs": [],
   "source": [
    "x = re.compile('is')"
   ]
  },
  {
   "cell_type": "code",
   "execution_count": 80,
   "id": "aa497217",
   "metadata": {},
   "outputs": [
    {
     "data": {
      "text/plain": [
       "['\\nLorem Ipsum ',\n",
       " \" simply dummy text of the printing and typesetting industry.\\nLorem Ipsum has been the industry's standard dummy text ever since the 1500s!\\nIt has survived not only five centuries, but also the leap into electronic typesetting, remaining essentially unchanged.\\nIt was popular\",\n",
       " 'ed in the 1960s with the release of Letraset sheets containing Lorem Ipsum passages\\nMore recently with desktop publ',\n",
       " 'hing software like Aldus PageMaker including versions of Lorem Ipsum.']"
      ]
     },
     "execution_count": 80,
     "metadata": {},
     "output_type": "execute_result"
    }
   ],
   "source": [
    "x.split(txt)"
   ]
  },
  {
   "cell_type": "code",
   "execution_count": 83,
   "id": "61bc2caa",
   "metadata": {},
   "outputs": [
    {
     "data": {
      "text/plain": [
       "['\\nLorem Ipsum is simply dummy text of the printing and typesetting industry',\n",
       " \"\\nLorem Ipsum has been the industry's standard dummy text ever since the 1500s!\\nIt has survived not only five centuries, but also the leap into electronic typesetting, remaining essentially unchanged\",\n",
       " '\\nIt was popularised in the 1960s with the release of Letraset sheets containing Lorem Ipsum passages\\nMore recently with desktop publishing software like Aldus PageMaker including versions of Lorem Ipsum',\n",
       " '']"
      ]
     },
     "execution_count": 83,
     "metadata": {},
     "output_type": "execute_result"
    }
   ],
   "source": [
    "re.split('\\.',txt)"
   ]
  },
  {
   "cell_type": "code",
   "execution_count": 86,
   "id": "9b20d90b",
   "metadata": {},
   "outputs": [
    {
     "data": {
      "text/plain": [
       "['\\nLorem',\n",
       " 'Ipsum',\n",
       " 'is',\n",
       " 'simply',\n",
       " 'dummy',\n",
       " 'text',\n",
       " 'of',\n",
       " 'the',\n",
       " 'printing',\n",
       " 'and',\n",
       " 'typesetting',\n",
       " 'industry.\\nLorem',\n",
       " 'Ipsum',\n",
       " 'has',\n",
       " 'been',\n",
       " 'the',\n",
       " \"industry's\",\n",
       " 'standard',\n",
       " 'dummy',\n",
       " 'text',\n",
       " 'ever',\n",
       " 'since',\n",
       " 'the',\n",
       " '1500s!\\nIt',\n",
       " 'has',\n",
       " 'survived',\n",
       " 'not',\n",
       " 'only',\n",
       " 'five',\n",
       " 'centuries,',\n",
       " 'but',\n",
       " 'also',\n",
       " 'the',\n",
       " 'leap',\n",
       " 'into',\n",
       " 'electronic',\n",
       " 'typesetting,',\n",
       " 'remaining',\n",
       " 'essentially',\n",
       " 'unchanged.\\nIt',\n",
       " 'was',\n",
       " 'popularised',\n",
       " 'in',\n",
       " 'the',\n",
       " '1960s',\n",
       " 'with',\n",
       " 'the',\n",
       " 'release',\n",
       " 'of',\n",
       " 'Letraset',\n",
       " 'sheets',\n",
       " 'containing',\n",
       " 'Lorem',\n",
       " 'Ipsum',\n",
       " 'passages\\nMore',\n",
       " 'recently',\n",
       " 'with',\n",
       " 'desktop',\n",
       " 'publishing',\n",
       " 'software',\n",
       " 'like',\n",
       " 'Aldus',\n",
       " 'PageMaker',\n",
       " 'including',\n",
       " 'versions',\n",
       " 'of',\n",
       " 'Lorem',\n",
       " 'Ipsum.']"
      ]
     },
     "execution_count": 86,
     "metadata": {},
     "output_type": "execute_result"
    }
   ],
   "source": [
    "re.split(' ',txt)"
   ]
  },
  {
   "cell_type": "code",
   "execution_count": null,
   "id": "ed243e5c",
   "metadata": {},
   "outputs": [],
   "source": []
  },
  {
   "cell_type": "code",
   "execution_count": null,
   "id": "b79a805b",
   "metadata": {},
   "outputs": [],
   "source": []
  },
  {
   "cell_type": "code",
   "execution_count": null,
   "id": "e2dfccc9",
   "metadata": {},
   "outputs": [],
   "source": []
  },
  {
   "cell_type": "markdown",
   "id": "fc5780de",
   "metadata": {},
   "source": [
    "# Substitution"
   ]
  },
  {
   "cell_type": "code",
   "execution_count": 96,
   "id": "d279e0e0",
   "metadata": {},
   "outputs": [
    {
     "data": {
      "text/plain": [
       "regex.Regex('\\\\d{2}', flags=regex.V0)"
      ]
     },
     "execution_count": 96,
     "metadata": {},
     "output_type": "execute_result"
    }
   ],
   "source": [
    "x = re.compile('\\d{2}')\n",
    "x"
   ]
  },
  {
   "cell_type": "code",
   "execution_count": 102,
   "id": "c4383cf8",
   "metadata": {},
   "outputs": [
    {
     "data": {
      "text/plain": [
       "(\"\\nLorem Ipsum is simply dummy text of the printing and typesetting industry.\\nLorem Ipsum has been the industry's standard dummy text ever since the \\\\%\\\\%s!\\nIt has survived not only five centuries, but also the leap into electronic typesetting, remaining essentially unchanged.\\nIt was popularised in the \\\\%\\\\%s with the release of Letraset sheets containing Lorem Ipsum passages\\nMore recently with desktop publishing software like Aldus PageMaker including versions of Lorem Ipsum.\",\n",
       " 4)"
      ]
     },
     "execution_count": 102,
     "metadata": {},
     "output_type": "execute_result"
    }
   ],
   "source": [
    "x.subn('\\%',txt)"
   ]
  },
  {
   "cell_type": "code",
   "execution_count": null,
   "id": "1ddb8979",
   "metadata": {},
   "outputs": [],
   "source": []
  },
  {
   "cell_type": "code",
   "execution_count": null,
   "id": "5d756344",
   "metadata": {},
   "outputs": [],
   "source": []
  }
 ],
 "metadata": {
  "kernelspec": {
   "display_name": "Python 3 (ipykernel)",
   "language": "python",
   "name": "python3"
  },
  "language_info": {
   "codemirror_mode": {
    "name": "ipython",
    "version": 3
   },
   "file_extension": ".py",
   "mimetype": "text/x-python",
   "name": "python",
   "nbconvert_exporter": "python",
   "pygments_lexer": "ipython3",
   "version": "3.9.12"
  }
 },
 "nbformat": 4,
 "nbformat_minor": 5
}
